{
 "cells": [
  {
   "cell_type": "markdown",
   "metadata": {},
   "source": [
    "Importing the datasets and libraries."
   ]
  },
  {
   "cell_type": "code",
   "execution_count": 1,
   "metadata": {},
   "outputs": [],
   "source": [
    "import pandas as pd\n",
    "import numpy as np\n",
    "\n",
    "slidings = pd.read_csv('Data/slidings_merged.csv')\n",
    "rain = pd.read_csv('Data/rain_prepared.csv')"
   ]
  },
  {
   "cell_type": "markdown",
   "metadata": {},
   "source": [
    "Taking a look at the datasets."
   ]
  },
  {
   "cell_type": "code",
   "execution_count": 2,
   "metadata": {},
   "outputs": [
    {
     "data": {
      "text/html": [
       "<div>\n",
       "<style scoped>\n",
       "    .dataframe tbody tr th:only-of-type {\n",
       "        vertical-align: middle;\n",
       "    }\n",
       "\n",
       "    .dataframe tbody tr th {\n",
       "        vertical-align: top;\n",
       "    }\n",
       "\n",
       "    .dataframe thead th {\n",
       "        text-align: right;\n",
       "    }\n",
       "</style>\n",
       "<table border=\"1\" class=\"dataframe\">\n",
       "  <thead>\n",
       "    <tr style=\"text-align: right;\">\n",
       "      <th></th>\n",
       "      <th>description</th>\n",
       "      <th>neighbourhood</th>\n",
       "      <th>situation</th>\n",
       "      <th>Date</th>\n",
       "      <th>risk</th>\n",
       "      <th>event</th>\n",
       "      <th>latitude</th>\n",
       "      <th>longitude</th>\n",
       "      <th>victims</th>\n",
       "      <th>deadly_victims</th>\n",
       "      <th>justification</th>\n",
       "      <th>length</th>\n",
       "      <th>num_points</th>\n",
       "      <th>in_place</th>\n",
       "    </tr>\n",
       "  </thead>\n",
       "  <tbody>\n",
       "    <tr>\n",
       "      <th>0</th>\n",
       "      <td>0</td>\n",
       "      <td>AFLITOS</td>\n",
       "      <td>1</td>\n",
       "      <td>2019-12-10</td>\n",
       "      <td>0</td>\n",
       "      <td>0</td>\n",
       "      <td>0.0</td>\n",
       "      <td>0.0</td>\n",
       "      <td>0</td>\n",
       "      <td>0</td>\n",
       "      <td>0</td>\n",
       "      <td>0</td>\n",
       "      <td>0</td>\n",
       "      <td>0</td>\n",
       "    </tr>\n",
       "    <tr>\n",
       "      <th>1</th>\n",
       "      <td>0</td>\n",
       "      <td>AFLITOS</td>\n",
       "      <td>1</td>\n",
       "      <td>2019-12-10</td>\n",
       "      <td>0</td>\n",
       "      <td>0</td>\n",
       "      <td>0.0</td>\n",
       "      <td>0.0</td>\n",
       "      <td>0</td>\n",
       "      <td>0</td>\n",
       "      <td>0</td>\n",
       "      <td>0</td>\n",
       "      <td>0</td>\n",
       "      <td>0</td>\n",
       "    </tr>\n",
       "    <tr>\n",
       "      <th>2</th>\n",
       "      <td>0</td>\n",
       "      <td>AFLITOS</td>\n",
       "      <td>1</td>\n",
       "      <td>2019-09-17</td>\n",
       "      <td>0</td>\n",
       "      <td>0</td>\n",
       "      <td>0.0</td>\n",
       "      <td>0.0</td>\n",
       "      <td>0</td>\n",
       "      <td>0</td>\n",
       "      <td>0</td>\n",
       "      <td>0</td>\n",
       "      <td>0</td>\n",
       "      <td>0</td>\n",
       "    </tr>\n",
       "    <tr>\n",
       "      <th>3</th>\n",
       "      <td>0</td>\n",
       "      <td>AFLITOS</td>\n",
       "      <td>1</td>\n",
       "      <td>2019-09-09</td>\n",
       "      <td>0</td>\n",
       "      <td>0</td>\n",
       "      <td>0.0</td>\n",
       "      <td>0.0</td>\n",
       "      <td>0</td>\n",
       "      <td>0</td>\n",
       "      <td>0</td>\n",
       "      <td>0</td>\n",
       "      <td>0</td>\n",
       "      <td>0</td>\n",
       "    </tr>\n",
       "    <tr>\n",
       "      <th>4</th>\n",
       "      <td>0</td>\n",
       "      <td>AFLITOS</td>\n",
       "      <td>1</td>\n",
       "      <td>2019-06-17</td>\n",
       "      <td>0</td>\n",
       "      <td>0</td>\n",
       "      <td>0.0</td>\n",
       "      <td>0.0</td>\n",
       "      <td>0</td>\n",
       "      <td>0</td>\n",
       "      <td>0</td>\n",
       "      <td>0</td>\n",
       "      <td>0</td>\n",
       "      <td>0</td>\n",
       "    </tr>\n",
       "  </tbody>\n",
       "</table>\n",
       "</div>"
      ],
      "text/plain": [
       "   description neighbourhood  situation        Date  risk  event  latitude  \\\n",
       "0            0       AFLITOS          1  2019-12-10     0      0       0.0   \n",
       "1            0       AFLITOS          1  2019-12-10     0      0       0.0   \n",
       "2            0       AFLITOS          1  2019-09-17     0      0       0.0   \n",
       "3            0       AFLITOS          1  2019-09-09     0      0       0.0   \n",
       "4            0       AFLITOS          1  2019-06-17     0      0       0.0   \n",
       "\n",
       "   longitude  victims  deadly_victims  justification  length  num_points  \\\n",
       "0        0.0        0               0              0       0           0   \n",
       "1        0.0        0               0              0       0           0   \n",
       "2        0.0        0               0              0       0           0   \n",
       "3        0.0        0               0              0       0           0   \n",
       "4        0.0        0               0              0       0           0   \n",
       "\n",
       "   in_place  \n",
       "0         0  \n",
       "1         0  \n",
       "2         0  \n",
       "3         0  \n",
       "4         0  "
      ]
     },
     "execution_count": 2,
     "metadata": {},
     "output_type": "execute_result"
    }
   ],
   "source": [
    "slidings = slidings.drop(columns='Unnamed: 0',axis=1)\n",
    "slidings.head()"
   ]
  },
  {
   "cell_type": "code",
   "execution_count": 3,
   "metadata": {},
   "outputs": [
    {
     "data": {
      "text/html": [
       "<div>\n",
       "<style scoped>\n",
       "    .dataframe tbody tr th:only-of-type {\n",
       "        vertical-align: middle;\n",
       "    }\n",
       "\n",
       "    .dataframe tbody tr th {\n",
       "        vertical-align: top;\n",
       "    }\n",
       "\n",
       "    .dataframe thead th {\n",
       "        text-align: right;\n",
       "    }\n",
       "</style>\n",
       "<table border=\"1\" class=\"dataframe\">\n",
       "  <thead>\n",
       "    <tr style=\"text-align: right;\">\n",
       "      <th></th>\n",
       "      <th>Station</th>\n",
       "      <th>rain</th>\n",
       "      <th>latitude</th>\n",
       "      <th>longitude</th>\n",
       "      <th>Date</th>\n",
       "    </tr>\n",
       "  </thead>\n",
       "  <tbody>\n",
       "    <tr>\n",
       "      <th>0</th>\n",
       "      <td>Recife (Lamepe/Itep)</td>\n",
       "      <td>0.0</td>\n",
       "      <td>-8.0592</td>\n",
       "      <td>-34.9519</td>\n",
       "      <td>2012-01-01</td>\n",
       "    </tr>\n",
       "    <tr>\n",
       "      <th>1</th>\n",
       "      <td>Recife (Santo Amaro)</td>\n",
       "      <td>0.0</td>\n",
       "      <td>-8.0503</td>\n",
       "      <td>-34.8842</td>\n",
       "      <td>2012-01-01</td>\n",
       "    </tr>\n",
       "    <tr>\n",
       "      <th>2</th>\n",
       "      <td>Recife (Várzea)</td>\n",
       "      <td>0.0</td>\n",
       "      <td>-8.0360</td>\n",
       "      <td>-34.9800</td>\n",
       "      <td>2012-01-01</td>\n",
       "    </tr>\n",
       "    <tr>\n",
       "      <th>3</th>\n",
       "      <td>Recife - PCD</td>\n",
       "      <td>0.0</td>\n",
       "      <td>-8.0644</td>\n",
       "      <td>-34.9247</td>\n",
       "      <td>2012-01-01</td>\n",
       "    </tr>\n",
       "    <tr>\n",
       "      <th>4</th>\n",
       "      <td>Recife (Alto da Brasileira)</td>\n",
       "      <td>0.0</td>\n",
       "      <td>-8.0014</td>\n",
       "      <td>-34.9353</td>\n",
       "      <td>2012-02-01</td>\n",
       "    </tr>\n",
       "  </tbody>\n",
       "</table>\n",
       "</div>"
      ],
      "text/plain": [
       "                       Station  rain  latitude  longitude        Date\n",
       "0         Recife (Lamepe/Itep)   0.0   -8.0592   -34.9519  2012-01-01\n",
       "1         Recife (Santo Amaro)   0.0   -8.0503   -34.8842  2012-01-01\n",
       "2              Recife (Várzea)   0.0   -8.0360   -34.9800  2012-01-01\n",
       "3                 Recife - PCD   0.0   -8.0644   -34.9247  2012-01-01\n",
       "4  Recife (Alto da Brasileira)   0.0   -8.0014   -34.9353  2012-02-01"
      ]
     },
     "execution_count": 3,
     "metadata": {},
     "output_type": "execute_result"
    }
   ],
   "source": [
    "rain = rain.drop(columns='Unnamed: 0',axis=1)\n",
    "rain.head()"
   ]
  },
  {
   "cell_type": "code",
   "execution_count": 4,
   "metadata": {},
   "outputs": [
    {
     "name": "stdout",
     "output_type": "stream",
     "text": [
      "<class 'pandas.core.frame.DataFrame'>\n",
      "RangeIndex: 8017 entries, 0 to 8016\n",
      "Data columns (total 5 columns):\n",
      "Station      8017 non-null object\n",
      "rain         8017 non-null float64\n",
      "latitude     8017 non-null float64\n",
      "longitude    8017 non-null float64\n",
      "Date         8017 non-null object\n",
      "dtypes: float64(3), object(2)\n",
      "memory usage: 250.6+ KB\n"
     ]
    }
   ],
   "source": [
    "rain.info()"
   ]
  },
  {
   "cell_type": "markdown",
   "metadata": {},
   "source": [
    "Creating the rain column to fill with the value from the nearest station on that day. Those stations with no latitude/longitude values, will be filled with the average of the stations on the respective day."
   ]
  },
  {
   "cell_type": "code",
   "execution_count": 5,
   "metadata": {},
   "outputs": [],
   "source": [
    "slidings['Rain']=0"
   ]
  },
  {
   "cell_type": "code",
   "execution_count": 6,
   "metadata": {},
   "outputs": [
    {
     "name": "stderr",
     "output_type": "stream",
     "text": [
      "c:\\users\\ricardo_2\\appdata\\local\\programs\\python\\python37-32\\lib\\site-packages\\pandas\\core\\indexing.py:205: SettingWithCopyWarning: \n",
      "A value is trying to be set on a copy of a slice from a DataFrame\n",
      "\n",
      "See the caveats in the documentation: http://pandas.pydata.org/pandas-docs/stable/user_guide/indexing.html#returning-a-view-versus-a-copy\n",
      "  self._setitem_with_indexer(indexer, value)\n",
      "c:\\users\\ricardo_2\\appdata\\local\\programs\\python\\python37-32\\lib\\site-packages\\ipykernel_launcher.py:8: RuntimeWarning: invalid value encountered in double_scalars\n",
      "  \n"
     ]
    }
   ],
   "source": [
    "from geopy.distance import geodesic\n",
    "for n in range (0,len(slidings)):\n",
    "    b= rain.loc[rain['Date']==slidings.Date.iloc[n]]\n",
    "    p1 = [slidings['latitude'][n],slidings['longitude'][n]]\n",
    "    point =[]\n",
    "    distance = []\n",
    "    if slidings.latitude[n] == 0:\n",
    "        slidings.Rain.iloc[n]= b['rain'].sum()/len(b['rain'])\n",
    "    else:\n",
    "            for i in range (0,len(b)):\n",
    "                point = [b.latitude.iloc[i],b.longitude.iloc[i]]\n",
    "                distance.append(geodesic(p1, point).meters)\n",
    "            slidings.Rain.iloc[n]=b.rain.iloc[distance.index(min(distance))]\n",
    "\n",
    "            \n",
    "slidings['Rain']= np.round(slidings['Rain'],decimals=2)"
   ]
  },
  {
   "cell_type": "code",
   "execution_count": 7,
   "metadata": {},
   "outputs": [
    {
     "data": {
      "text/plain": [
       "0.00      11620\n",
       "0.60        657\n",
       "0.20        594\n",
       "134.15      501\n",
       "1.00        446\n",
       "          ...  \n",
       "35.70         1\n",
       "34.05         1\n",
       "0.92          1\n",
       "13.26         1\n",
       "1.95          1\n",
       "Name: Rain, Length: 830, dtype: int64"
      ]
     },
     "execution_count": 7,
     "metadata": {},
     "output_type": "execute_result"
    }
   ],
   "source": [
    "slidings.Rain.value_counts()"
   ]
  },
  {
   "cell_type": "markdown",
   "metadata": {},
   "source": [
    "There are 3 columns with the same information (0- no sliding, 1- sliding), which are situation, event and justification. So we are going to add them, take a quick look at how many slidings are reported at more than one dataset (values higher than 1) and then finally converting to 0/1 again."
   ]
  },
  {
   "cell_type": "code",
   "execution_count": 8,
   "metadata": {},
   "outputs": [
    {
     "data": {
      "text/plain": [
       "0    30867\n",
       "1    14995\n",
       "2      192\n",
       "Name: sliding, dtype: int64"
      ]
     },
     "execution_count": 8,
     "metadata": {},
     "output_type": "execute_result"
    }
   ],
   "source": [
    "slidings['sliding'] = slidings.apply(lambda row: row.situation + row.event + row.justification , axis = 1) \n",
    "slidings.sliding.value_counts()"
   ]
  },
  {
   "cell_type": "code",
   "execution_count": 9,
   "metadata": {},
   "outputs": [
    {
     "data": {
      "text/plain": [
       "0    30867\n",
       "1    15187\n",
       "Name: sliding, dtype: int64"
      ]
     },
     "execution_count": 9,
     "metadata": {},
     "output_type": "execute_result"
    }
   ],
   "source": [
    "slidings.sliding.replace(2,1,inplace=True)\n",
    "slidings.sliding.value_counts()"
   ]
  },
  {
   "cell_type": "markdown",
   "metadata": {},
   "source": [
    "Since the sliding information is concentrade in the new sliding column, we can drop the previous ones. While we do that we will drop the neighbourhood and date columns that we no longer need."
   ]
  },
  {
   "cell_type": "code",
   "execution_count": 10,
   "metadata": {},
   "outputs": [
    {
     "data": {
      "text/html": [
       "<div>\n",
       "<style scoped>\n",
       "    .dataframe tbody tr th:only-of-type {\n",
       "        vertical-align: middle;\n",
       "    }\n",
       "\n",
       "    .dataframe tbody tr th {\n",
       "        vertical-align: top;\n",
       "    }\n",
       "\n",
       "    .dataframe thead th {\n",
       "        text-align: right;\n",
       "    }\n",
       "</style>\n",
       "<table border=\"1\" class=\"dataframe\">\n",
       "  <thead>\n",
       "    <tr style=\"text-align: right;\">\n",
       "      <th></th>\n",
       "      <th>situation</th>\n",
       "      <th>risk</th>\n",
       "      <th>latitude</th>\n",
       "      <th>longitude</th>\n",
       "      <th>victims</th>\n",
       "      <th>deadly_victims</th>\n",
       "      <th>length</th>\n",
       "      <th>num_points</th>\n",
       "      <th>in_place</th>\n",
       "      <th>Rain</th>\n",
       "      <th>sliding</th>\n",
       "    </tr>\n",
       "  </thead>\n",
       "  <tbody>\n",
       "    <tr>\n",
       "      <th>0</th>\n",
       "      <td>1</td>\n",
       "      <td>0</td>\n",
       "      <td>0.0</td>\n",
       "      <td>0.0</td>\n",
       "      <td>0</td>\n",
       "      <td>0</td>\n",
       "      <td>0</td>\n",
       "      <td>0</td>\n",
       "      <td>0</td>\n",
       "      <td>0.60</td>\n",
       "      <td>1</td>\n",
       "    </tr>\n",
       "    <tr>\n",
       "      <th>1</th>\n",
       "      <td>1</td>\n",
       "      <td>0</td>\n",
       "      <td>0.0</td>\n",
       "      <td>0.0</td>\n",
       "      <td>0</td>\n",
       "      <td>0</td>\n",
       "      <td>0</td>\n",
       "      <td>0</td>\n",
       "      <td>0</td>\n",
       "      <td>0.60</td>\n",
       "      <td>1</td>\n",
       "    </tr>\n",
       "    <tr>\n",
       "      <th>2</th>\n",
       "      <td>1</td>\n",
       "      <td>0</td>\n",
       "      <td>0.0</td>\n",
       "      <td>0.0</td>\n",
       "      <td>0</td>\n",
       "      <td>0</td>\n",
       "      <td>0</td>\n",
       "      <td>0</td>\n",
       "      <td>0</td>\n",
       "      <td>0.13</td>\n",
       "      <td>1</td>\n",
       "    </tr>\n",
       "    <tr>\n",
       "      <th>3</th>\n",
       "      <td>1</td>\n",
       "      <td>0</td>\n",
       "      <td>0.0</td>\n",
       "      <td>0.0</td>\n",
       "      <td>0</td>\n",
       "      <td>0</td>\n",
       "      <td>0</td>\n",
       "      <td>0</td>\n",
       "      <td>0</td>\n",
       "      <td>2.17</td>\n",
       "      <td>1</td>\n",
       "    </tr>\n",
       "    <tr>\n",
       "      <th>4</th>\n",
       "      <td>1</td>\n",
       "      <td>0</td>\n",
       "      <td>0.0</td>\n",
       "      <td>0.0</td>\n",
       "      <td>0</td>\n",
       "      <td>0</td>\n",
       "      <td>0</td>\n",
       "      <td>0</td>\n",
       "      <td>0</td>\n",
       "      <td>93.60</td>\n",
       "      <td>1</td>\n",
       "    </tr>\n",
       "  </tbody>\n",
       "</table>\n",
       "</div>"
      ],
      "text/plain": [
       "   situation  risk  latitude  longitude  victims  deadly_victims  length  \\\n",
       "0          1     0       0.0        0.0        0               0       0   \n",
       "1          1     0       0.0        0.0        0               0       0   \n",
       "2          1     0       0.0        0.0        0               0       0   \n",
       "3          1     0       0.0        0.0        0               0       0   \n",
       "4          1     0       0.0        0.0        0               0       0   \n",
       "\n",
       "   num_points  in_place   Rain  sliding  \n",
       "0           0         0   0.60        1  \n",
       "1           0         0   0.60        1  \n",
       "2           0         0   0.13        1  \n",
       "3           0         0   2.17        1  \n",
       "4           0         0  93.60        1  "
      ]
     },
     "execution_count": 10,
     "metadata": {},
     "output_type": "execute_result"
    }
   ],
   "source": [
    "slidings = slidings.drop(columns=['description','event','justification','Date','neighbourhood'],axis=1)\n",
    "slidings.head()"
   ]
  },
  {
   "cell_type": "markdown",
   "metadata": {},
   "source": [
    "The latitude/longitude still need to be revised, but we will come back at it later on. For now this is our training dataset."
   ]
  },
  {
   "cell_type": "code",
   "execution_count": 12,
   "metadata": {},
   "outputs": [],
   "source": [
    "slidings.to_csv(path_or_buf='slidings_training.csv')"
   ]
  }
 ],
 "metadata": {
  "kernelspec": {
   "display_name": "Python 3",
   "language": "python",
   "name": "python3"
  },
  "language_info": {
   "codemirror_mode": {
    "name": "ipython",
    "version": 3
   },
   "file_extension": ".py",
   "mimetype": "text/x-python",
   "name": "python",
   "nbconvert_exporter": "python",
   "pygments_lexer": "ipython3",
   "version": "3.7.4"
  }
 },
 "nbformat": 4,
 "nbformat_minor": 2
}
